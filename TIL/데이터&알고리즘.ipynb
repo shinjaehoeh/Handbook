{
  "nbformat": 4,
  "nbformat_minor": 0,
  "metadata": {
    "colab": {
      "name": "데이터&알고리즘.ipynb",
      "provenance": [],
      "collapsed_sections": []
    },
    "kernelspec": {
      "name": "python3",
      "display_name": "Python 3"
    },
    "language_info": {
      "name": "python"
    }
  },
  "cells": [
    {
      "cell_type": "markdown",
      "metadata": {
        "id": "par8e04bft4i"
      },
      "source": [
        "# 선형 리스트"
      ]
    },
    {
      "cell_type": "code",
      "metadata": {
        "colab": {
          "base_uri": "https://localhost:8080/"
        },
        "id": "oAyly_s7fi6O",
        "outputId": "c09f1d04-e61a-4356-cc63-fcda303506b8"
      },
      "source": [
        "name = []\n",
        "\n",
        "def add_data(friend):\n",
        "    name.append(None)\n",
        "    name[len(name)-1] = friend\n",
        "\n",
        "add_data('태연')\n",
        "name"
      ],
      "execution_count": null,
      "outputs": [
        {
          "output_type": "execute_result",
          "data": {
            "text/plain": [
              "['태연']"
            ]
          },
          "metadata": {},
          "execution_count": 1
        }
      ]
    },
    {
      "cell_type": "code",
      "metadata": {
        "colab": {
          "base_uri": "https://localhost:8080/"
        },
        "id": "G5Xo95_VftU3",
        "outputId": "d5f44be8-8378-4bdc-bf69-647018ef9fb5"
      },
      "source": [
        "name = ['태연', '청하', '크리스탈']\n",
        "\n",
        "def insert_data(position, friend):\n",
        "    name.append(None)\n",
        "\n",
        "    for i in range(len(name)-1, position, -1):\n",
        "        name[i] = name[i-1]\n",
        "        name[i-1] = None\n",
        "    \n",
        "    name[position] = friend\n",
        "\n",
        "insert_data(1, '세빈')\n",
        "name"
      ],
      "execution_count": null,
      "outputs": [
        {
          "output_type": "execute_result",
          "data": {
            "text/plain": [
              "['태연', '세빈', '청하', '크리스탈']"
            ]
          },
          "metadata": {},
          "execution_count": 2
        }
      ]
    },
    {
      "cell_type": "code",
      "metadata": {
        "colab": {
          "base_uri": "https://localhost:8080/"
        },
        "id": "WwN0N2RQhp8C",
        "outputId": "476bb5b0-d533-48ce-8b69-dce96bbdae37"
      },
      "source": [
        "name = ['태연', '세빈', '청하', '크리스탈']\n",
        "\n",
        "def delete_data(position):\n",
        "    name[position] = None\n",
        "\n",
        "    for i in range(position+1, len(name), 1):\n",
        "        name[i-1] = name[i]\n",
        "        name[i] = None\n",
        "\n",
        "    del(name[len(name)-1])\n",
        "\n",
        "delete_data(1)\n",
        "name"
      ],
      "execution_count": null,
      "outputs": [
        {
          "output_type": "execute_result",
          "data": {
            "text/plain": [
              "['태연', '청하', '크리스탈']"
            ]
          },
          "metadata": {},
          "execution_count": 3
        }
      ]
    },
    {
      "cell_type": "code",
      "metadata": {
        "colab": {
          "base_uri": "https://localhost:8080/"
        },
        "id": "rvmRg6YKk8US",
        "outputId": "3f49ee70-8102-4d35-f707-94d03231bf3b"
      },
      "source": [
        "name = []\n",
        "select = -1\n",
        "\n",
        "\n",
        "def add_data(friend):\n",
        "    name.append(None)\n",
        "    name[len(name)-1] = friend\n",
        "\n",
        "def insert_data(position, friend):\n",
        "    name.append(None)\n",
        "\n",
        "    for i in range(len(name)-1, position, -1):\n",
        "        name[i] = name[i-1]\n",
        "        name[i-1] = None\n",
        "    \n",
        "    name[position] = friend\n",
        "\n",
        "def delete_data(position):\n",
        "    name[position] = None\n",
        "\n",
        "    for i in range(position+1, len(name), 1):\n",
        "        name[i-1] = name[i]\n",
        "        name[i] = None\n",
        "\n",
        "    del(name[len(name)-1])\n",
        "\n",
        "\n",
        "while (select != 4):\n",
        "    select = int(input('1:추가, 2:삽입, 3:삭제, 4:종료 -> '))\n",
        "\n",
        "    if (select == 1):\n",
        "        add_data(input('추가이름 -> '))\n",
        "        print(name)\n",
        "\n",
        "    elif (select == 2):\n",
        "        a, b = input('삽입위치, 이름 -> ').split(' ')\n",
        "        insert_data(int(a), b)\n",
        "        print(name)\n",
        "\n",
        "    elif (select == 3):\n",
        "        delete_data(input('삭제위치 -> '))\n",
        "        print(name)\n",
        "\n",
        "    elif (select == 4):\n",
        "        print(name)\n",
        "        break\n",
        "\n",
        "    else:\n",
        "        print('다시 확인')\n",
        "        pass"
      ],
      "execution_count": null,
      "outputs": [
        {
          "output_type": "stream",
          "text": [
            "1:추가, 2:삽입, 3:삭제, 4:종료 -> 4\n",
            "[]\n"
          ],
          "name": "stdout"
        }
      ]
    },
    {
      "cell_type": "markdown",
      "metadata": {
        "id": "-vKRp2jc-kB2"
      },
      "source": [
        "# 단순 연결 리스트"
      ]
    },
    {
      "cell_type": "code",
      "metadata": {
        "id": "2pmx8u1u-hH3"
      },
      "source": [
        "class Node():\n",
        "    def __init__(self):\n",
        "        self.data = None\n",
        "        self.link = None\n",
        "\n",
        "node1 = Node()\n",
        "node1.data = '태연'\n",
        "\n",
        "node2 = Node()\n",
        "node2.data = '세빈'\n",
        "node1.link = node2\n",
        "\n",
        "node3 = Node()\n",
        "node3.data = '청하'\n",
        "node2.link = node3\n",
        "\n",
        "node4 = Node()\n",
        "node4.data = '크리스탈'\n",
        "node3.link = node4"
      ],
      "execution_count": null,
      "outputs": []
    },
    {
      "cell_type": "code",
      "metadata": {
        "colab": {
          "base_uri": "https://localhost:8080/"
        },
        "id": "3_OpNlaN8nOo",
        "outputId": "01dd6969-9002-4bcd-b762-eb3f25c63cc2"
      },
      "source": [
        "print(node1.data, end=' ')\n",
        "print(node1.link.data, end=' ')\n",
        "print(node1.link.link.data, end=' ')\n",
        "print(node1.link.link.link.data, end=' ')"
      ],
      "execution_count": null,
      "outputs": [
        {
          "output_type": "stream",
          "text": [
            "태연 세빈 청하 크리스탈 "
          ],
          "name": "stdout"
        }
      ]
    },
    {
      "cell_type": "code",
      "metadata": {
        "colab": {
          "base_uri": "https://localhost:8080/"
        },
        "id": "qD91ShW4CfmQ",
        "outputId": "8de037d4-9a8f-4593-bf56-45d301297998"
      },
      "source": [
        "current = node1\n",
        "print(current.data, end=' ')\n",
        "while (current.link != None):\n",
        "    current = current.link\n",
        "    print(current.data, end=' ')"
      ],
      "execution_count": null,
      "outputs": [
        {
          "output_type": "stream",
          "text": [
            "태연 세빈 청하 크리스탈 "
          ],
          "name": "stdout"
        }
      ]
    },
    {
      "cell_type": "code",
      "metadata": {
        "colab": {
          "base_uri": "https://localhost:8080/"
        },
        "id": "eoCy52NRC2KC",
        "outputId": "85a9c5c5-0fb8-4309-a43b-3064eb0d4255"
      },
      "source": [
        "memory = []\n",
        "head, current, pre = None, None, None\n",
        "data_array = ['태연', '세빈', '청하', '크리스탈']\n",
        "\n",
        "\n",
        "class Node():\n",
        "    def __init__(self):\n",
        "        self.data = None\n",
        "        self.link = None\n",
        "\n",
        "def print_nodes(start):\n",
        "    current = start\n",
        "    print(current.data, end=' ')\n",
        "    while (current.link != None):\n",
        "        current = current.link\n",
        "        print(current.data, end=' ')\n",
        "\n",
        "\n",
        "node = Node()\n",
        "node.data = data_array[0]\n",
        "head = node\n",
        "memory.append(node)\n",
        "\n",
        "for i in data_array[1:]:\n",
        "    pre = node\n",
        "    node = Node()\n",
        "    node.data = i\n",
        "    pre.link = node\n",
        "    memory.append(node)\n",
        "\n",
        "print_nodes(head)"
      ],
      "execution_count": null,
      "outputs": [
        {
          "output_type": "stream",
          "text": [
            "태연 세빈 청하 크리스탈 "
          ],
          "name": "stdout"
        }
      ]
    },
    {
      "cell_type": "code",
      "metadata": {
        "id": "eObP1uRXJHaf"
      },
      "source": [
        "def insert_node(find, insert):\n",
        "    global memory, head, current, pre\n",
        "    if head.data == find :\n",
        "        node = Node()\n",
        "        node.data = insert\n",
        "        node.link = head\n",
        "        head = node\n",
        "        memory.append(node)\n",
        "    current = head\n",
        "    while (current.link != None):\n",
        "        pre = current\n",
        "        current = current.link\n",
        "        if current.data == find:\n",
        "            node = Node()\n",
        "            node.data = insert\n",
        "            node.link = current\n",
        "            pre.link = node\n",
        "            memory.append(node)\n",
        "    node = Node()\n",
        "    node.data = insert\n",
        "    current.link = node\n",
        "    memory.append(node)\n",
        "    \n",
        "def delete_node(d_d):\n",
        "    global memory, head, current, pre\n",
        "    if head.data == d_d:\n",
        "        current = head\n",
        "        head = head.link\n",
        "        del(current)\n",
        "    current = head\n",
        "    while current.link != None:\n",
        "        pre = current\n",
        "        current = current.link\n",
        "        if current.data == d_d:\n",
        "            pre.link = current.link\n",
        "            del(current)\n",
        "\n"
      ],
      "execution_count": null,
      "outputs": []
    },
    {
      "cell_type": "code",
      "metadata": {
        "id": "LSP1pK8XcRkc"
      },
      "source": [
        "## 함수 선언부\n",
        "class  Node() :\n",
        "    def __init__(self):\n",
        "        self.data = None\n",
        "        self.link = None\n",
        "def printNodes(start) :\n",
        "    current = start\n",
        "    print(current.data, end=' ')\n",
        "    while (current.link != None):\n",
        "        current = current.link\n",
        "        print(current.data, end=' ')\n",
        "    print()\n",
        "def insertNode(findData, insertData) :\n",
        "    global memory, head, current, pre\n",
        "    if head.data == findData : # 첫노드 앞에 삽입\n",
        "        node = Node()\n",
        "        node.data = insertData\n",
        "        node.link = head\n",
        "        head = node\n",
        "        memory.append(node)\n",
        "        return\n",
        "    current = head\n",
        "    while current.link != None :\n",
        "        pre = current\n",
        "        current = current.link\n",
        "        if  current.data == findData :\n",
        "            node = Node()\n",
        "            node.data = insertData\n",
        "            node.link = current\n",
        "            pre.link = node\n",
        "            memory.append(node)\n",
        "            return\n",
        "    node = Node() # 마지막 노드에 삽입\n",
        "    node.data = insertData\n",
        "    current.link = node\n",
        "    memory.append(node)\n",
        "    return\n",
        "def deleteNode(deleteData) :\n",
        "    global memory, head, current, pre\n",
        "    if head.data == deleteData :\n",
        "        current = head\n",
        "        head = head.link\n",
        "        del(current)\n",
        "        return\n",
        "    current  = head\n",
        "    while current.link != None :\n",
        "        pre = current\n",
        "        current = current.link\n",
        "        if current.data == deleteData :\n",
        "            pre.link = current.link\n",
        "            del(current)\n",
        "            return\n",
        "def findNode(findData) :\n",
        "    global memory, head, current, pre\n",
        "\n",
        "## 전역 변수부\n",
        "memory = [] # 노드를 저장할 공간\n",
        "head, current, pre = None, None, None\n",
        "dataArray = ['다현', '정연', '쯔위', '사나', '지효']\n",
        "## 메인 코드부\n",
        "node = Node()   # 첫번째 노드\n",
        "node.data = dataArray[0]\n",
        "head = node\n",
        "memory.append(node)\n",
        "for data in dataArray[1:] : # ['정연', '쯔위', '사나', '지효']\n",
        "    pre = node\n",
        "    node = Node()\n",
        "    node.data = data\n",
        "    pre.link = node\n",
        "    memory.append(node)\n",
        "printNodes(head)\n",
        "\n",
        "# insertNode('다현', '화사')\n",
        "# printNodes(head)\n",
        "# insertNode('사나', '솔라')\n",
        "# printNodes(head)\n",
        "# insertNode('재남', '문별')\n",
        "# printNodes(head)\n",
        "\n",
        "deleteNode('다현')\n",
        "printNodes(head)\n",
        "deleteNode('쯔위')\n",
        "printNodes(head)\n",
        "deleteNode('재남')\n",
        "printNodes(head)"
      ],
      "execution_count": null,
      "outputs": []
    }
  ]
}