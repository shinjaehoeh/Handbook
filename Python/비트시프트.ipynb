{
  "nbformat": 4,
  "nbformat_minor": 0,
  "metadata": {
    "colab": {
      "name": "연습장.ipynb",
      "provenance": []
    },
    "kernelspec": {
      "name": "python3",
      "display_name": "Python 3"
    },
    "language_info": {
      "name": "python"
    }
  },
  "cells": [
    {
      "cell_type": "code",
      "metadata": {
        "id": "_QGAo3QhvPgR",
        "colab": {
          "base_uri": "https://localhost:8080/"
        },
        "outputId": "f86d82b4-eb07-47ca-d248-9d4fea253a10"
      },
      "source": [
        "a = input()\n",
        "a = int(a)\n",
        "print(a<<1)\n",
        "print(a<<2)\n",
        "print(a>>1)\n",
        "print(a>>2)"
      ],
      "execution_count": 7,
      "outputs": [
        {
          "output_type": "stream",
          "name": "stdout",
          "text": [
            "10\n",
            "20\n",
            "40\n",
            "5\n",
            "2\n"
          ]
        }
      ]
    },
    {
      "cell_type": "code",
      "metadata": {
        "id": "_mvuZCACpvlB"
      },
      "source": [
        ""
      ],
      "execution_count": null,
      "outputs": []
    }
  ]
}