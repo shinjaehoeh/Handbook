{
  "cells": [
    {
      "cell_type": "code",
      "execution_count": 3,
      "metadata": {
        "colab": {
          "base_uri": "https://localhost:8080/"
        },
        "id": "_QGAo3QhvPgR",
        "outputId": "0f2ddffd-5b1e-4691-9ab9-ea6b3a180c35"
      },
      "outputs": [
        {
          "name": "stdout",
          "output_type": "stream",
          "text": [
            "0.507\n",
            "0.507\n",
            "0.507\n",
            "0.507\n"
          ]
        }
      ],
      "source": [
        "a, b = input().split()\n",
        "c = float(a)/float(b)\n",
        "\n",
        "print('%.3f'%c)\n",
        "print(format(c,\".3f\"))\n",
        "print(round(c,3))\n",
        "print(f'{c:.3f}')"
      ]
    },
    {
      "cell_type": "code",
      "execution_count": null,
      "metadata": {
        "id": "t9x7EcE2mvia"
      },
      "outputs": [],
      "source": []
    }
  ],
  "metadata": {
    "colab": {
      "name": "연습장.ipynb",
      "provenance": []
    },
    "kernelspec": {
      "display_name": "Python 3",
      "name": "python3"
    },
    "language_info": {
      "codemirror_mode": {
        "name": "ipython",
        "version": 3
      },
      "file_extension": ".py",
      "mimetype": "text/x-python",
      "name": "python",
      "nbconvert_exporter": "python",
      "pygments_lexer": "ipython3",
      "version": "3.8.10"
    }
  },
  "nbformat": 4,
  "nbformat_minor": 0
}
