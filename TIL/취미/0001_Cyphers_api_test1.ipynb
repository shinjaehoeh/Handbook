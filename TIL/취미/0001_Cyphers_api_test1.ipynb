{
  "cells": [
    {
      "cell_type": "markdown",
      "metadata": {
        "id": "Y58TVZS1pCc-"
      },
      "source": [
        "# Example"
      ]
    },
    {
      "cell_type": "code",
      "execution_count": 1,
      "metadata": {
        "id": "LoZXFODgvsnd"
      },
      "outputs": [],
      "source": [
        "import requests\n",
        "from urllib.parse import quote"
      ]
    },
    {
      "cell_type": "code",
      "execution_count": 2,
      "metadata": {
        "colab": {
          "base_uri": "https://localhost:8080/",
          "height": 35
        },
        "id": "PzfWtWx3ytgd",
        "outputId": "58a46577-d25f-4b29-c574-d7af2ecd4f89"
      },
      "outputs": [
        {
          "data": {
            "text/plain": [
              "'%EC%BD%94%EB%94%A9'"
            ]
          },
          "execution_count": 2,
          "metadata": {},
          "output_type": "execute_result"
        }
      ],
      "source": [
        "nickname = quote('코딩')\n",
        "nickname"
      ]
    },
    {
      "cell_type": "code",
      "execution_count": 3,
      "metadata": {
        "colab": {
          "base_uri": "https://localhost:8080/"
        },
        "id": "u-FappUpupFh",
        "outputId": "0831bbfe-5f86-4753-9422-1ed74472e7a9"
      },
      "outputs": [
        {
          "data": {
            "text/plain": [
              "{'rows': [{'playerId': '0e6011593ec0f39dbd0894af49932f4e',\n",
              "   'nickname': '코딩',\n",
              "   'grade': 93}]}"
            ]
          },
          "execution_count": 3,
          "metadata": {},
          "output_type": "execute_result"
        }
      ],
      "source": [
        "search_url = f'https://api.neople.co.kr/cy/players?nickname={nickname}&wordType=<wordType>&apikey=--'\n",
        "search_data = requests.get(search_url).json()\n",
        "search_data"
      ]
    },
    {
      "cell_type": "code",
      "execution_count": 4,
      "metadata": {
        "colab": {
          "base_uri": "https://localhost:8080/",
          "height": 35
        },
        "id": "wX2p3o--ShMj",
        "outputId": "c5fcd7dd-3390-4051-85db-6bc6d6e1c4df"
      },
      "outputs": [
        {
          "data": {
            "text/plain": [
              "'0e6011593ec0f39dbd0894af49932f4e'"
            ]
          },
          "execution_count": 4,
          "metadata": {},
          "output_type": "execute_result"
        }
      ],
      "source": [
        "player_id = search_data['rows'][0]['playerId']\n",
        "player_id"
      ]
    },
    {
      "cell_type": "code",
      "execution_count": 5,
      "metadata": {
        "colab": {
          "base_uri": "https://localhost:8080/"
        },
        "id": "X6tzbpddx_fm",
        "outputId": "016c0f29-5ac2-4f4e-f0d2-b78a326be45c"
      },
      "outputs": [
        {
          "data": {
            "text/plain": [
              "{'playerId': '0e6011593ec0f39dbd0894af49932f4e',\n",
              " 'nickname': '코딩',\n",
              " 'grade': 93,\n",
              " 'clanName': '주말게임동호회',\n",
              " 'ratingPoint': None,\n",
              " 'maxRatingPoint': None,\n",
              " 'tierName': None,\n",
              " 'records': [{'gameTypeId': 'rating',\n",
              "   'winCount': 0,\n",
              "   'loseCount': 0,\n",
              "   'stopCount': 0},\n",
              "  {'gameTypeId': 'normal', 'winCount': 105, 'loseCount': 91, 'stopCount': 4}]}"
            ]
          },
          "execution_count": 5,
          "metadata": {},
          "output_type": "execute_result"
        }
      ],
      "source": [
        "info_url = f'https://api.neople.co.kr/cy/players/{player_id}?apikey=--'\n",
        "info_data = requests.get(info_url).json()\n",
        "info_data"
      ]
    },
    {
      "cell_type": "code",
      "execution_count": 6,
      "metadata": {
        "colab": {
          "base_uri": "https://localhost:8080/"
        },
        "id": "D_ScR5wOaT9h",
        "outputId": "220a583b-9729-4fba-f7ff-15532c46c12b"
      },
      "outputs": [
        {
          "name": "stdout",
          "output_type": "stream",
          "text": [
            "2021-10-24 00:30:00 + 15:19 play with 1\n",
            "['탱파업합니다'] \n",
            "\n"
          ]
        }
      ],
      "source": [
        "match_url = f'https://api.neople.co.kr/cy/players/{player_id}/matches?gameTypeId=normal&apikey=--'\n",
        "match_data = requests.get(match_url).json()\n",
        "\n",
        "date = match_data['matches']['rows'][0]['date']\n",
        "raw_time = match_data['matches']['rows'][0]['playInfo']['playTime']\n",
        "play_time = f'{raw_time//60}:{raw_time%60}'\n",
        "play_with = match_data['matches']['rows'][0]['playInfo']['partyUserCount']-1\n",
        "if int(play_with) == -1:\n",
        "    play_with = 0\n",
        "\n",
        "raw_party = match_data['matches']['rows'][0]['playInfo']['partyInfo']\n",
        "party_member = []\n",
        "for member in raw_party:\n",
        "    party_member.append(member['nickname'])\n",
        "\n",
        "print(date+':00 +', play_time, 'play with', play_with)\n",
        "print(party_member, '\\n')"
      ]
    },
    {
      "cell_type": "markdown",
      "metadata": {
        "id": "Gum3sjpwo1EN"
      },
      "source": [
        "# Tracking"
      ]
    },
    {
      "cell_type": "code",
      "execution_count": 10,
      "metadata": {
        "id": "vc3SqwgfuVW7"
      },
      "outputs": [],
      "source": [
        "import requests\n",
        "import time\n",
        "\n",
        "def tr(id):\n",
        "    try:\n",
        "        a = id\n",
        "        b = f'https://api.neople.co.kr/cy/players/{a}?apikey=--'\n",
        "        c = requests.get(b).json()\n",
        "        d = c['clanName']\n",
        "        e = c['grade']\n",
        "        f = c['nickname']\n",
        "        print(d, f'{e}급', f)\n",
        "\n",
        "    except:\n",
        "        print(\"[can not find user]\")\n",
        "\n",
        "    try:\n",
        "        g = f'https://api.neople.co.kr/cy/players/{a}/matches?gameTypeId=normal&apikey=--'\n",
        "        h = requests.get(g).json()\n",
        "        i = h['matches']['rows'][0]['date']\n",
        "        j = h['matches']['rows'][0]['playInfo']['playTime']\n",
        "        k = f'{j//60}:{j%60}'\n",
        "        l = [h['matches']['rows'][0]['playInfo']['partyUserCount']-1\n",
        "             if int(h['matches']['rows'][0]['playInfo']['partyUserCount']) else 'alone']\n",
        "        \n",
        "        m = h['matches']['rows'][0]['playInfo']['partyInfo']\n",
        "        n = []\n",
        "        for _ in m:\n",
        "            n.append(_['nickname'])\n",
        "\n",
        "        print(i+':00 +', k, 'play with', l)\n",
        "        print(n, '\\n')\n",
        "        time.sleep(0.5)\n",
        "\n",
        "    except:\n",
        "        print(\"[there's no play data]                [-]\\n\")"
      ]
    },
    {
      "cell_type": "code",
      "execution_count": 11,
      "metadata": {
        "colab": {
          "base_uri": "https://localhost:8080/"
        },
        "id": "LLamXru6usMe",
        "outputId": "541d665c-6c6b-4a10-f063-cbba7deb0dbb"
      },
      "outputs": [
        {
          "name": "stdout",
          "output_type": "stream",
          "text": [
            "주말게임동호회 93급 코딩\n",
            "2021-10-24 00:30:00 + 15:19 play with [1]\n",
            "['탱파업합니다'] \n",
            "\n"
          ]
        }
      ],
      "source": [
        "tr('0e6011593ec0f39dbd0894af49932f4e')"
      ]
    },
    {
      "cell_type": "markdown",
      "metadata": {
        "id": "ipFT_CYRN_W1"
      },
      "source": [
        "# Searching"
      ]
    },
    {
      "cell_type": "code",
      "execution_count": 12,
      "metadata": {
        "colab": {
          "base_uri": "https://localhost:8080/"
        },
        "id": "CNXUyfZODYRe",
        "outputId": "d91d3caf-7ce9-4586-d2dc-5b3c404208e4"
      },
      "outputs": [
        {
          "name": "stdout",
          "output_type": "stream",
          "text": [
            "주말게임동호회 93급 코딩\n",
            "2021-10-24 00:30:00 + 15:19 play with [1]\n",
            "['탱파업합니다'] \n",
            "\n"
          ]
        },
        {
          "ename": "KeyboardInterrupt",
          "evalue": "Interrupted by user",
          "output_type": "error",
          "traceback": [
            "\u001b[1;31m---------------------------------------------------------------------------\u001b[0m",
            "\u001b[1;31mKeyboardInterrupt\u001b[0m                         Traceback (most recent call last)",
            "\u001b[1;32m<ipython-input-12-befd55dd4200>\u001b[0m in \u001b[0;36m<module>\u001b[1;34m\u001b[0m\n\u001b[0;32m      1\u001b[0m \u001b[1;32mwhile\u001b[0m\u001b[1;33m(\u001b[0m\u001b[1;36m1\u001b[0m\u001b[1;33m)\u001b[0m\u001b[1;33m:\u001b[0m\u001b[1;33m\u001b[0m\u001b[1;33m\u001b[0m\u001b[0m\n\u001b[1;32m----> 2\u001b[1;33m     \u001b[0mnickname\u001b[0m \u001b[1;33m=\u001b[0m \u001b[0mquote\u001b[0m\u001b[1;33m(\u001b[0m\u001b[0mstr\u001b[0m\u001b[1;33m(\u001b[0m\u001b[0minput\u001b[0m\u001b[1;33m(\u001b[0m\u001b[1;33m)\u001b[0m\u001b[1;33m)\u001b[0m\u001b[1;33m)\u001b[0m\u001b[1;33m\u001b[0m\u001b[1;33m\u001b[0m\u001b[0m\n\u001b[0m\u001b[0;32m      3\u001b[0m     \u001b[1;32mif\u001b[0m \u001b[0mnickname\u001b[0m \u001b[1;33m==\u001b[0m \u001b[1;34m'.'\u001b[0m\u001b[1;33m:\u001b[0m\u001b[1;33m\u001b[0m\u001b[1;33m\u001b[0m\u001b[0m\n\u001b[0;32m      4\u001b[0m         \u001b[0mprint\u001b[0m\u001b[1;33m(\u001b[0m\u001b[1;34m'\\b\\b'\u001b[0m\u001b[1;33m,\u001b[0m \u001b[0mend\u001b[0m\u001b[1;33m=\u001b[0m\u001b[1;34m''\u001b[0m\u001b[1;33m)\u001b[0m\u001b[1;33m\u001b[0m\u001b[1;33m\u001b[0m\u001b[0m\n\u001b[0;32m      5\u001b[0m         \u001b[1;32mfor\u001b[0m \u001b[0msec\u001b[0m \u001b[1;32min\u001b[0m \u001b[0mrange\u001b[0m\u001b[1;33m(\u001b[0m\u001b[1;36m5\u001b[0m\u001b[1;33m,\u001b[0m \u001b[1;36m0\u001b[0m\u001b[1;33m,\u001b[0m \u001b[1;33m-\u001b[0m\u001b[1;36m1\u001b[0m\u001b[1;33m)\u001b[0m\u001b[1;33m:\u001b[0m\u001b[1;33m\u001b[0m\u001b[1;33m\u001b[0m\u001b[0m\n",
            "\u001b[1;32m~\\anaconda3\\lib\\site-packages\\ipykernel\\kernelbase.py\u001b[0m in \u001b[0;36mraw_input\u001b[1;34m(self, prompt)\u001b[0m\n\u001b[0;32m    858\u001b[0m                 \u001b[1;34m\"raw_input was called, but this frontend does not support input requests.\"\u001b[0m\u001b[1;33m\u001b[0m\u001b[1;33m\u001b[0m\u001b[0m\n\u001b[0;32m    859\u001b[0m             )\n\u001b[1;32m--> 860\u001b[1;33m         return self._input_request(str(prompt),\n\u001b[0m\u001b[0;32m    861\u001b[0m             \u001b[0mself\u001b[0m\u001b[1;33m.\u001b[0m\u001b[0m_parent_ident\u001b[0m\u001b[1;33m,\u001b[0m\u001b[1;33m\u001b[0m\u001b[1;33m\u001b[0m\u001b[0m\n\u001b[0;32m    862\u001b[0m             \u001b[0mself\u001b[0m\u001b[1;33m.\u001b[0m\u001b[0m_parent_header\u001b[0m\u001b[1;33m,\u001b[0m\u001b[1;33m\u001b[0m\u001b[1;33m\u001b[0m\u001b[0m\n",
            "\u001b[1;32m~\\anaconda3\\lib\\site-packages\\ipykernel\\kernelbase.py\u001b[0m in \u001b[0;36m_input_request\u001b[1;34m(self, prompt, ident, parent, password)\u001b[0m\n\u001b[0;32m    902\u001b[0m             \u001b[1;32mexcept\u001b[0m \u001b[0mKeyboardInterrupt\u001b[0m\u001b[1;33m:\u001b[0m\u001b[1;33m\u001b[0m\u001b[1;33m\u001b[0m\u001b[0m\n\u001b[0;32m    903\u001b[0m                 \u001b[1;31m# re-raise KeyboardInterrupt, to truncate traceback\u001b[0m\u001b[1;33m\u001b[0m\u001b[1;33m\u001b[0m\u001b[1;33m\u001b[0m\u001b[0m\n\u001b[1;32m--> 904\u001b[1;33m                 \u001b[1;32mraise\u001b[0m \u001b[0mKeyboardInterrupt\u001b[0m\u001b[1;33m(\u001b[0m\u001b[1;34m\"Interrupted by user\"\u001b[0m\u001b[1;33m)\u001b[0m \u001b[1;32mfrom\u001b[0m \u001b[1;32mNone\u001b[0m\u001b[1;33m\u001b[0m\u001b[1;33m\u001b[0m\u001b[0m\n\u001b[0m\u001b[0;32m    905\u001b[0m             \u001b[1;32mexcept\u001b[0m \u001b[0mException\u001b[0m \u001b[1;32mas\u001b[0m \u001b[0me\u001b[0m\u001b[1;33m:\u001b[0m\u001b[1;33m\u001b[0m\u001b[1;33m\u001b[0m\u001b[0m\n\u001b[0;32m    906\u001b[0m                 \u001b[0mself\u001b[0m\u001b[1;33m.\u001b[0m\u001b[0mlog\u001b[0m\u001b[1;33m.\u001b[0m\u001b[0mwarning\u001b[0m\u001b[1;33m(\u001b[0m\u001b[1;34m\"Invalid Message:\"\u001b[0m\u001b[1;33m,\u001b[0m \u001b[0mexc_info\u001b[0m\u001b[1;33m=\u001b[0m\u001b[1;32mTrue\u001b[0m\u001b[1;33m)\u001b[0m\u001b[1;33m\u001b[0m\u001b[1;33m\u001b[0m\u001b[0m\n",
            "\u001b[1;31mKeyboardInterrupt\u001b[0m: Interrupted by user"
          ]
        }
      ],
      "source": [
        "while(1):\n",
        "    nickname = quote(str(input()))\n",
        "    if nickname == '.':\n",
        "        print('\\b\\b', end='')\n",
        "        for sec in range(5, 0, -1):\n",
        "            print(sec, end='')\n",
        "            time.sleep(1)\n",
        "            print('\\b', end='')\n",
        "        break\n",
        "\n",
        "    try:\n",
        "        search_url = f'https://api.neople.co.kr/cy/players?nickname={nickname}&wordType=<wordType>&apikey=--'\n",
        "        search_data = requests.get(search_url).json()\n",
        "        player_id = search_data['rows'][0]['playerId']\n",
        "        tr(player_id)\n",
        "    except:\n",
        "        print('error \\n')"
      ]
    }
  ],
  "metadata": {
    "colab": {
      "collapsed_sections": [],
      "name": "0001_Cyphers_api_test1.ipynb",
      "provenance": []
    },
    "interpreter": {
      "hash": "28d246944fa520a80a3fed0a54be27658972cc37ce61df83b88ae1be854dfa64"
    },
    "kernelspec": {
      "display_name": "Python 3.8.10 64-bit ('base': conda)",
      "name": "python3"
    },
    "language_info": {
      "codemirror_mode": {
        "name": "ipython",
        "version": 3
      },
      "file_extension": ".py",
      "mimetype": "text/x-python",
      "name": "python",
      "nbconvert_exporter": "python",
      "pygments_lexer": "ipython3",
      "version": "3.8.10"
    }
  },
  "nbformat": 4,
  "nbformat_minor": 0
}
