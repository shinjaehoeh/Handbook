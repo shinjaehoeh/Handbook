{
  "nbformat": 4,
  "nbformat_minor": 0,
  "metadata": {
    "colab": {
      "name": "연습장.ipynb",
      "provenance": []
    },
    "kernelspec": {
      "name": "python3",
      "display_name": "Python 3"
    },
    "language_info": {
      "name": "python"
    }
  },
  "cells": [
    {
      "cell_type": "code",
      "metadata": {
        "id": "dfZZIKRkmhwq",
        "colab": {
          "base_uri": "https://localhost:8080/"
        },
        "outputId": "7c5a9687-48b6-4a8c-a696-d0c5e9564cc2"
      },
      "source": [
        "print('\"C:\\\\Download\\\\\\'hello\\'.py\"')"
      ],
      "execution_count": null,
      "outputs": [
        {
          "output_type": "stream",
          "name": "stdout",
          "text": [
            "\"C:\\Download\\'hello'.py\"\n"
          ]
        }
      ]
    },
    {
      "cell_type": "code",
      "metadata": {
        "id": "Cv77DwXKmiUt"
      },
      "source": [
        ""
      ],
      "execution_count": null,
      "outputs": []
    }
  ]
}