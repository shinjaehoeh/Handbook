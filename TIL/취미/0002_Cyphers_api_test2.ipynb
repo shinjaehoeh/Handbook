{
  "nbformat": 4,
  "nbformat_minor": 0,
  "metadata": {
    "colab": {
      "name": "0002_Cyphers_api_test2.ipynb",
      "provenance": []
    },
    "kernelspec": {
      "name": "python3",
      "display_name": "Python 3"
    },
    "language_info": {
      "name": "python"
    }
  },
  "cells": [
    {
      "cell_type": "code",
      "metadata": {
        "colab": {
          "base_uri": "https://localhost:8080/"
        },
        "id": "JNcyPJ4uI-3I",
        "outputId": "6aee59bc-c520-4ca6-b64a-900f43515c64"
      },
      "source": [
        "from google.colab import drive\n",
        "drive.mount('/content/drive', force_remount=True)\n",
        "\n",
        "import pandas as pd\n",
        "idpw_link = '/content/drive/MyDrive/programming/data/must_ignore.xlsx'\n",
        "idpw = pd.read_excel(idpw_link, sheet_name='main')"
      ],
      "execution_count": 1,
      "outputs": [
        {
          "output_type": "stream",
          "name": "stdout",
          "text": [
            "Mounted at /content/drive\n"
          ]
        }
      ]
    },
    {
      "cell_type": "code",
      "metadata": {
        "id": "aLPRdfqjLKDS"
      },
      "source": [
        "import requests\n",
        "\n",
        "apikey = idpw.iloc[11,0]"
      ],
      "execution_count": 2,
      "outputs": []
    },
    {
      "cell_type": "code",
      "metadata": {
        "id": "3zhZnREQlcng"
      },
      "source": [
        "def find(nickname,limit=1):\n",
        "    wordType = 'full' if limit != 1 else 'match'\n",
        "    search_url = f'https://api.neople.co.kr/cy/players?nickname={nickname}&wordType={wordType}&limit={limit}&apikey={apikey}'\n",
        "    search_data = requests.get(search_url).json()\n",
        "    return search_data['rows']"
      ],
      "execution_count": 3,
      "outputs": []
    },
    {
      "cell_type": "code",
      "metadata": {
        "id": "au5Q7g5RlmIE"
      },
      "source": [
        "def info(playerId):\n",
        "    info_url = f'https://api.neople.co.kr/cy/players/{playerId}?apikey={apikey}'\n",
        "    info_data = requests.get(info_url).json()\n",
        "    return info_data"
      ],
      "execution_count": 4,
      "outputs": []
    },
    {
      "cell_type": "code",
      "metadata": {
        "id": "9IS1qeufma-s"
      },
      "source": [
        "def match(playerId,gameTypeId='n',limit=1):\n",
        "    gameTypeId = 'normal' if limit == 'n' else 'rating'\n",
        "    match_url = f'https://api.neople.co.kr/cy/players/{playerId}/matches?gameTypeId={gameTypeId}&limit={limit}&apikey={apikey}'\n",
        "    match_data = requests.get(match_url).json()\n",
        "    return match_data"
      ],
      "execution_count": 25,
      "outputs": []
    },
    {
      "cell_type": "code",
      "metadata": {
        "id": "nsK8gnuYsiVr"
      },
      "source": [
        ""
      ],
      "execution_count": null,
      "outputs": []
    }
  ]
}