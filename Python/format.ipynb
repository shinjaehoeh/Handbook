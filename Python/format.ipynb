{
  "nbformat": 4,
  "nbformat_minor": 0,
  "metadata": {
    "colab": {
      "name": "연습장.ipynb",
      "provenance": []
    },
    "kernelspec": {
      "name": "python3",
      "display_name": "Python 3"
    },
    "language_info": {
      "name": "python"
    }
  },
  "cells": [
    {
      "cell_type": "code",
      "metadata": {
        "id": "_QGAo3QhvPgR",
        "colab": {
          "base_uri": "https://localhost:8080/"
        },
        "outputId": "0f2ddffd-5b1e-4691-9ab9-ea6b3a180c35"
      },
      "source": [
        "a, b = input().split()\n",
        "c = float(a)/float(b)\n",
        "\n",
        "print('%.3f'%c)\n",
        "print(format(c,\".3f\"))\n",
        "print(f'{c:.3f}')"
      ],
      "execution_count": 1,
      "outputs": [
        {
          "output_type": "stream",
          "name": "stdout",
          "text": [
            "3.4 6.7\n",
            "0.507\n",
            "0.507\n",
            "0.507\n"
          ]
        }
      ]
    },
    {
      "cell_type": "code",
      "metadata": {
        "id": "t9x7EcE2mvia"
      },
      "source": [
        ""
      ],
      "execution_count": null,
      "outputs": []
    }
  ]
}